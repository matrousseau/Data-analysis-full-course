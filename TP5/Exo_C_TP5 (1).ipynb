{
 "cells": [
  {
   "cell_type": "markdown",
   "metadata": {
    "colab_type": "text",
    "id": "XWLu49G47PCL"
   },
   "source": [
    "# Exercice C\n",
    "\n"
   ]
  },
  {
   "cell_type": "markdown",
   "metadata": {
    "colab_type": "text",
    "id": "RVmkmgQT7SN7"
   },
   "source": [
    "# Question A\n",
    "\n"
   ]
  },
  {
   "cell_type": "markdown",
   "metadata": {},
   "source": [
    "### Question 1"
   ]
  },
  {
   "cell_type": "code",
   "execution_count": 0,
   "metadata": {
    "colab": {},
    "colab_type": "code",
    "id": "4Hz1Z_Vj7RUP"
   },
   "outputs": [],
   "source": [
    "import pandas as pd\n",
    "import matplotlib.pyplot as plt\n",
    "import seaborn as sns\n",
    "import numpy as np\n",
    "from sklearn import metrics\n",
    "from sklearn.naive_bayes import GaussianNB\n",
    "\n",
    "\n",
    "import warnings\n",
    "warnings.filterwarnings(\"ignore\")"
   ]
  },
  {
   "cell_type": "code",
   "execution_count": 0,
   "metadata": {
    "colab": {},
    "colab_type": "code",
    "id": "6F2u01wU6PQo"
   },
   "outputs": [],
   "source": [
    "df_train = pd.read_csv('titanic_train.csv')\n",
    "df_test = pd.read_csv('titanic_test.csv')\n",
    "def pourcentageDf(df):\n",
    "    return df.value_counts()/df.shape[0]*100"
   ]
  },
  {
   "cell_type": "code",
   "execution_count": 0,
   "metadata": {
    "colab": {
     "base_uri": "https://localhost:8080/",
     "height": 111
    },
    "colab_type": "code",
    "id": "I9zziM2o35hS",
    "outputId": "74c22ce4-bf2d-45bd-a44e-0bd2112677fc"
   },
   "outputs": [
    {
     "data": {
      "text/html": [
       "<div>\n",
       "<style scoped>\n",
       "    .dataframe tbody tr th:only-of-type {\n",
       "        vertical-align: middle;\n",
       "    }\n",
       "\n",
       "    .dataframe tbody tr th {\n",
       "        vertical-align: top;\n",
       "    }\n",
       "\n",
       "    .dataframe thead th {\n",
       "        text-align: right;\n",
       "    }\n",
       "</style>\n",
       "<table border=\"1\" class=\"dataframe\">\n",
       "  <thead>\n",
       "    <tr style=\"text-align: right;\">\n",
       "      <th></th>\n",
       "      <th>Classe 1</th>\n",
       "      <th>Classe 2</th>\n",
       "      <th>Classe 3</th>\n",
       "    </tr>\n",
       "  </thead>\n",
       "  <tbody>\n",
       "    <tr>\n",
       "      <th>0</th>\n",
       "      <td>31.168831</td>\n",
       "      <td>50.0</td>\n",
       "      <td>78.412698</td>\n",
       "    </tr>\n",
       "    <tr>\n",
       "      <th>1</th>\n",
       "      <td>68.831169</td>\n",
       "      <td>50.0</td>\n",
       "      <td>21.587302</td>\n",
       "    </tr>\n",
       "  </tbody>\n",
       "</table>\n",
       "</div>"
      ],
      "text/plain": [
       "    Classe 1  Classe 2   Classe 3\n",
       "0  31.168831      50.0  78.412698\n",
       "1  68.831169      50.0  21.587302"
      ]
     },
     "execution_count": 76,
     "metadata": {
      "tags": []
     },
     "output_type": "execute_result"
    }
   ],
   "source": [
    "pourcentageClass1 = pourcentageDf(df_train[df_train['Pclass']==1]['Survived'])\n",
    "pourcentageClass2 = pourcentageDf(df_train[df_train['Pclass']==2]['Survived'])\n",
    "pourcentageClass3 = pourcentageDf(df_train[df_train['Pclass']==3]['Survived'])\n",
    "\n",
    "result = pd.concat([pourcentageClass1, pourcentageClass2, pourcentageClass3],\n",
    "                   axis=1)\n",
    "result.columns = ['Classe 1','Classe 2','Classe 3']\n",
    "result"
   ]
  },
  {
   "cell_type": "markdown",
   "metadata": {
    "colab_type": "text",
    "id": "VgReKO1A7vQ9"
   },
   "source": [
    "### Question 2"
   ]
  },
  {
   "cell_type": "code",
   "execution_count": 0,
   "metadata": {
    "colab": {
     "base_uri": "https://localhost:8080/",
     "height": 204
    },
    "colab_type": "code",
    "id": "z80h_zDx4BX1",
    "outputId": "b7834f11-1cae-40c9-cc31-5c84b408f27f"
   },
   "outputs": [
    {
     "data": {
      "text/html": [
       "<div>\n",
       "<style scoped>\n",
       "    .dataframe tbody tr th:only-of-type {\n",
       "        vertical-align: middle;\n",
       "    }\n",
       "\n",
       "    .dataframe tbody tr th {\n",
       "        vertical-align: top;\n",
       "    }\n",
       "\n",
       "    .dataframe thead th {\n",
       "        text-align: right;\n",
       "    }\n",
       "</style>\n",
       "<table border=\"1\" class=\"dataframe\">\n",
       "  <thead>\n",
       "    <tr style=\"text-align: right;\">\n",
       "      <th></th>\n",
       "      <th>Survived</th>\n",
       "      <th>Pclass</th>\n",
       "      <th>Sex</th>\n",
       "      <th>Age</th>\n",
       "      <th>SibSp</th>\n",
       "      <th>Parch</th>\n",
       "      <th>Fare</th>\n",
       "      <th>Embarked</th>\n",
       "      <th>Fare2</th>\n",
       "    </tr>\n",
       "  </thead>\n",
       "  <tbody>\n",
       "    <tr>\n",
       "      <th>0</th>\n",
       "      <td>1</td>\n",
       "      <td>1</td>\n",
       "      <td>0</td>\n",
       "      <td>NaN</td>\n",
       "      <td>0</td>\n",
       "      <td>0</td>\n",
       "      <td>30.5000</td>\n",
       "      <td>0</td>\n",
       "      <td>4.0</td>\n",
       "    </tr>\n",
       "    <tr>\n",
       "      <th>1</th>\n",
       "      <td>1</td>\n",
       "      <td>1</td>\n",
       "      <td>0</td>\n",
       "      <td>50.0</td>\n",
       "      <td>0</td>\n",
       "      <td>1</td>\n",
       "      <td>247.5208</td>\n",
       "      <td>0</td>\n",
       "      <td>4.0</td>\n",
       "    </tr>\n",
       "    <tr>\n",
       "      <th>2</th>\n",
       "      <td>1</td>\n",
       "      <td>3</td>\n",
       "      <td>2</td>\n",
       "      <td>NaN</td>\n",
       "      <td>0</td>\n",
       "      <td>0</td>\n",
       "      <td>7.7500</td>\n",
       "      <td>0</td>\n",
       "      <td>1.0</td>\n",
       "    </tr>\n",
       "    <tr>\n",
       "      <th>3</th>\n",
       "      <td>1</td>\n",
       "      <td>3</td>\n",
       "      <td>2</td>\n",
       "      <td>NaN</td>\n",
       "      <td>2</td>\n",
       "      <td>0</td>\n",
       "      <td>23.2500</td>\n",
       "      <td>2</td>\n",
       "      <td>3.0</td>\n",
       "    </tr>\n",
       "    <tr>\n",
       "      <th>4</th>\n",
       "      <td>0</td>\n",
       "      <td>3</td>\n",
       "      <td>2</td>\n",
       "      <td>19.0</td>\n",
       "      <td>0</td>\n",
       "      <td>0</td>\n",
       "      <td>0.0000</td>\n",
       "      <td>0</td>\n",
       "      <td>1.0</td>\n",
       "    </tr>\n",
       "  </tbody>\n",
       "</table>\n",
       "</div>"
      ],
      "text/plain": [
       "   Survived  Pclass  Sex   Age  SibSp  Parch      Fare  Embarked  Fare2\n",
       "0         1       1    0   NaN      0      0   30.5000         0    4.0\n",
       "1         1       1    0  50.0      0      1  247.5208         0    4.0\n",
       "2         1       3    2   NaN      0      0    7.7500         0    1.0\n",
       "3         1       3    2   NaN      2      0   23.2500         2    3.0\n",
       "4         0       3    2  19.0      0      0    0.0000         0    1.0"
      ]
     },
     "execution_count": 77,
     "metadata": {
      "tags": []
     },
     "output_type": "execute_result"
    }
   ],
   "source": [
    "from sklearn.preprocessing import LabelEncoder\n",
    "\n",
    "enc = LabelEncoder()\n",
    "\n",
    "df_train_labeled = df_train\n",
    "\n",
    "df_train_labeled = df_train_labeled.drop(['PassengerId','Name','FullName','Ticket','Cabin'],axis=1)\n",
    "\n",
    "\n",
    "df_train_labeled.iloc[:,2:3] = enc.fit_transform(df_train.iloc[:,2:3])\n",
    "df_train_labeled.iloc[:,7:8] = enc.fit_transform(df_train.iloc[:,7:8].astype(str))\n",
    "\n",
    "\n",
    "\n",
    "def fare2AttBuilder(df):\n",
    " \n",
    "  fare_cat = np.zeros(df.shape[0])\n",
    "  \n",
    "  for i in range(len(fare_cat)):\n",
    "    \n",
    "    if df['Fare'][i]<10:\n",
    "      fare_cat[i]=1\n",
    "      \n",
    "    elif df['Fare'][i]<20 and df['Fare'][i]>10:\n",
    "       fare_cat[i]=2\n",
    "        \n",
    "    elif df['Fare'][i]>20 and df['Fare'][i]<30:\n",
    "       fare_cat[i]=3\n",
    "  \n",
    "    else :\n",
    "       fare_cat[i]=4\n",
    "        \n",
    "  dffare_cat = pd.DataFrame(fare_cat)\n",
    "  dffare_cat.columns=['Fare2']\n",
    "  df = pd.concat([df, dffare_cat], axis=1)\n",
    "\n",
    "  return (df)\n",
    "\n",
    "\n",
    "df_train_labeled = fare2AttBuilder(df_train_labeled)\n",
    "df_train_labeled.head()\n"
   ]
  },
  {
   "cell_type": "markdown",
   "metadata": {
    "colab_type": "text",
    "id": "IaiqF-wJA0mt"
   },
   "source": [
    "### Question 3 "
   ]
  },
  {
   "cell_type": "code",
   "execution_count": 0,
   "metadata": {
    "colab": {
     "base_uri": "https://localhost:8080/",
     "height": 34
    },
    "colab_type": "code",
    "id": "NOwa2vTQBQTd",
    "outputId": "9b12b060-71ad-49cc-d5c8-42d4e3c997cc"
   },
   "outputs": [
    {
     "data": {
      "text/plain": [
       "Power_divergenceResult(statistic=1232.1666666666665, pvalue=3.540770184018379e-47)"
      ]
     },
     "execution_count": 78,
     "metadata": {
      "tags": []
     },
     "output_type": "execute_result"
    }
   ],
   "source": [
    "from scipy.stats import chisquare\n",
    "chisquare(df_train_labeled['Pclass'], df_train_labeled['Fare2'])"
   ]
  },
  {
   "cell_type": "markdown",
   "metadata": {
    "colab_type": "text",
    "id": "OX2MWUMQHR-c"
   },
   "source": [
    "On peut observer de manière évidente que la classe correspondant au prix du billet àune forte influence sur le resultat\n",
    "Ainsi valait-il mieux avoir acheté un billet au prix fort au moment où le bateau allait sombrer."
   ]
  },
  {
   "cell_type": "markdown",
   "metadata": {
    "colab_type": "text",
    "id": "ik9ysjHaD_V5"
   },
   "source": [
    "### Question 4"
   ]
  },
  {
   "cell_type": "code",
   "execution_count": 0,
   "metadata": {
    "colab": {
     "base_uri": "https://localhost:8080/",
     "height": 111
    },
    "colab_type": "code",
    "id": "24e2-gYIEazJ",
    "outputId": "eaf6e116-2fbb-4c94-f713-d57b1534544f"
   },
   "outputs": [
    {
     "data": {
      "text/html": [
       "<div>\n",
       "<style scoped>\n",
       "    .dataframe tbody tr th:only-of-type {\n",
       "        vertical-align: middle;\n",
       "    }\n",
       "\n",
       "    .dataframe tbody tr th {\n",
       "        vertical-align: top;\n",
       "    }\n",
       "\n",
       "    .dataframe thead th {\n",
       "        text-align: right;\n",
       "    }\n",
       "</style>\n",
       "<table border=\"1\" class=\"dataframe\">\n",
       "  <thead>\n",
       "    <tr style=\"text-align: right;\">\n",
       "      <th></th>\n",
       "      <th>Fare 1</th>\n",
       "      <th>Fare 2</th>\n",
       "      <th>Fare 3</th>\n",
       "      <th>Fare 4</th>\n",
       "    </tr>\n",
       "  </thead>\n",
       "  <tbody>\n",
       "    <tr>\n",
       "      <th>0</th>\n",
       "      <td>82.959641</td>\n",
       "      <td>56.140351</td>\n",
       "      <td>55.555556</td>\n",
       "      <td>34.939759</td>\n",
       "    </tr>\n",
       "    <tr>\n",
       "      <th>1</th>\n",
       "      <td>17.040359</td>\n",
       "      <td>43.859649</td>\n",
       "      <td>44.444444</td>\n",
       "      <td>65.060241</td>\n",
       "    </tr>\n",
       "  </tbody>\n",
       "</table>\n",
       "</div>"
      ],
      "text/plain": [
       "      Fare 1     Fare 2     Fare 3     Fare 4\n",
       "0  82.959641  56.140351  55.555556  34.939759\n",
       "1  17.040359  43.859649  44.444444  65.060241"
      ]
     },
     "execution_count": 81,
     "metadata": {
      "tags": []
     },
     "output_type": "execute_result"
    }
   ],
   "source": [
    "pourcentageFare1 = pourcentageDf(df_train_labeled[df_train_labeled['Fare2']==1]['Survived'])\n",
    "pourcentageFare2 = pourcentageDf(df_train_labeled[df_train_labeled['Fare2']==2]['Survived'])\n",
    "pourcentageFare3 = pourcentageDf(df_train_labeled[df_train_labeled['Fare2']==3]['Survived'])\n",
    "pourcentageFare4 = pourcentageDf(df_train_labeled[df_train_labeled['Fare2']==4]['Survived'])\n",
    "\n",
    "result = pd.concat([pourcentageFare1, pourcentageFare2, pourcentageFare3,pourcentageFare4],\n",
    "                   axis=1)\n",
    "result.columns = ['Fare 1','Fare 2','Fare 3','Fare 4']\n",
    "result"
   ]
  },
  {
   "cell_type": "markdown",
   "metadata": {
    "colab_type": "text",
    "id": "8Dfa9V-PgtVE"
   },
   "source": [
    "On observe de fortes dispartiés entre le pourcentage de survie et le prix du billet acheté par l'individu, les individus ayant achetés les billets les moins chers (<10) sont seulement 17% a avoir survécu, ceux des classes moyennes (fare2 & fare 3) près de 44% et 65 % pour les billets les plus chers, on retrouve donc des résultats assez proches de ceux observés à la question précédente avec les différentes classes, ce qui est cohérent avec le fait que les classes et le tarif des billets soient corrélés."
   ]
  },
  {
   "cell_type": "markdown",
   "metadata": {
    "colab_type": "text",
    "id": "59WQB87nFIoB"
   },
   "source": [
    "### Question 5"
   ]
  },
  {
   "cell_type": "code",
   "execution_count": 0,
   "metadata": {
    "colab": {
     "base_uri": "https://localhost:8080/",
     "height": 170
    },
    "colab_type": "code",
    "id": "RXxqn5JXFjR0",
    "outputId": "713fa9ea-e5a0-4c5a-b8b7-5509b2044324"
   },
   "outputs": [
    {
     "name": "stdout",
     "output_type": "stream",
     "text": [
      "             precision    recall  f1-score   support\n",
      "\n",
      "          0       0.70      0.77      0.73       192\n",
      "          1       0.49      0.40      0.44       106\n",
      "\n",
      "avg / total       0.62      0.64      0.63       298\n",
      "\n",
      "[[148  44]\n",
      " [ 64  42]]\n"
     ]
    }
   ],
   "source": [
    "enc = LabelEncoder()\n",
    "\n",
    "df_test_labeled = df_test\n",
    "\n",
    "df_test_labeled = df_test_labeled.drop(['PassengerId','Name','FullName','Ticket','Cabin'],axis=1)\n",
    "\n",
    "\n",
    "df_test_labeled.iloc[:,2:3] = enc.fit_transform(df_test_labeled.iloc[:,2:3])\n",
    "df_test_labeled.iloc[:,7:8] = enc.fit_transform(df_test_labeled.iloc[:,7:8].astype(str))\n",
    "\n",
    "\n",
    "df_test_labeled = fare2AttBuilder(df_test_labeled)\n",
    "\n",
    "\n",
    "gnbModelB=GaussianNB()\n",
    "gnbModel.fit(df_train_labeled[['Pclass','Fare2']],df_train_labeled['Survived'])\n",
    "\n",
    "expected = df_test_labeled['Survived']\n",
    "predicted = gnbModel.predict(df_test_labeled[['Pclass','Fare2']])\n",
    "\n",
    "print(metrics.classification_report(expected, predicted))\n",
    "print(metrics.confusion_matrix(expected, predicted))"
   ]
  },
  {
   "cell_type": "markdown",
   "metadata": {
    "colab_type": "text",
    "id": "73VIburj4KLG"
   },
   "source": [
    "**Conclusion :** \n"
   ]
  },
  {
   "cell_type": "markdown",
   "metadata": {
    "colab_type": "text",
    "id": "Aa5otRn3hWDl"
   },
   "source": [
    "La précision de notre prédiction est ici de 62% soit bien inférerieur avec notre prédicteur obtenu à la question précédente. Cela souligne la tendance observé depuis le début du tp que le sexe avait une forte influence sur la prédiction de survie d'un individu."
   ]
  }
 ],
 "metadata": {
  "colab": {
   "collapsed_sections": [],
   "name": "Exo C TP5.ipynb",
   "provenance": [],
   "version": "0.3.2"
  },
  "kernelspec": {
   "display_name": "Python 3",
   "language": "python",
   "name": "python3"
  },
  "language_info": {
   "codemirror_mode": {
    "name": "ipython",
    "version": 3
   },
   "file_extension": ".py",
   "mimetype": "text/x-python",
   "name": "python",
   "nbconvert_exporter": "python",
   "pygments_lexer": "ipython3",
   "version": "3.6.6"
  }
 },
 "nbformat": 4,
 "nbformat_minor": 1
}
