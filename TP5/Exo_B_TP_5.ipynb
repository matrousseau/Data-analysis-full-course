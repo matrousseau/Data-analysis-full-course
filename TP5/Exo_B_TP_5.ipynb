{
 "cells": [
  {
   "cell_type": "markdown",
   "metadata": {
    "colab_type": "text",
    "id": "1aG7wDdF88Ya"
   },
   "source": [
    "# Exercice B"
   ]
  },
  {
   "cell_type": "code",
   "execution_count": 0,
   "metadata": {
    "colab": {},
    "colab_type": "code",
    "id": "Xg3d4U4g6R3H"
   },
   "outputs": [],
   "source": [
    "import pandas as pd\n",
    "import matplotlib.pyplot as plt\n",
    "import seaborn as sns\n",
    "import numpy as np\n",
    "from sklearn import metrics\n",
    "from sklearn.naive_bayes import GaussianNB\n",
    "\n",
    "\n",
    "import warnings\n",
    "warnings.filterwarnings(\"ignore\")"
   ]
  },
  {
   "cell_type": "code",
   "execution_count": 0,
   "metadata": {
    "colab": {
     "base_uri": "https://localhost:8080/",
     "height": 111
    },
    "colab_type": "code",
    "id": "rR-rZJ0288Yb",
    "outputId": "c30e1fd6-ed71-41fe-ab77-c9b85ada45bd"
   },
   "outputs": [
    {
     "data": {
      "text/html": [
       "<div>\n",
       "<style scoped>\n",
       "    .dataframe tbody tr th:only-of-type {\n",
       "        vertical-align: middle;\n",
       "    }\n",
       "\n",
       "    .dataframe tbody tr th {\n",
       "        vertical-align: top;\n",
       "    }\n",
       "\n",
       "    .dataframe thead th {\n",
       "        text-align: right;\n",
       "    }\n",
       "</style>\n",
       "<table border=\"1\" class=\"dataframe\">\n",
       "  <thead>\n",
       "    <tr style=\"text-align: right;\">\n",
       "      <th></th>\n",
       "      <th>Homme</th>\n",
       "      <th>Femme</th>\n",
       "    </tr>\n",
       "  </thead>\n",
       "  <tbody>\n",
       "    <tr>\n",
       "      <th>0</th>\n",
       "      <td>79.74026</td>\n",
       "      <td>24.038462</td>\n",
       "    </tr>\n",
       "    <tr>\n",
       "      <th>1</th>\n",
       "      <td>20.25974</td>\n",
       "      <td>75.961538</td>\n",
       "    </tr>\n",
       "  </tbody>\n",
       "</table>\n",
       "</div>"
      ],
      "text/plain": [
       "      Homme      Femme\n",
       "0  79.74026  24.038462\n",
       "1  20.25974  75.961538"
      ]
     },
     "execution_count": 6,
     "metadata": {
      "tags": []
     },
     "output_type": "execute_result"
    }
   ],
   "source": [
    "# Importation du dataset d'entrainement et de test\n",
    "\n",
    "df_train = pd.read_csv('titanic_train.csv')\n",
    "df_test = pd.read_csv('titanic_test.csv')\n",
    "def pourcentageDf(df):\n",
    "    return df.value_counts()/df.shape[0]*100\n",
    "\n",
    "#Question 1\n",
    "pourcentageSurvieHomme = pourcentageDf(df_train[df_train['Sex']=='male']['Survived'])\n",
    "pourcentageSurvieFemme = pourcentageDf(df_train[df_train['Sex']=='female']['Survived'])\n",
    "\n",
    "result = pd.concat([pourcentageSurvieHomme, pourcentageSurvieFemme], axis=1)\n",
    "result.columns = ['Homme','Femme']\n",
    "result"
   ]
  },
  {
   "cell_type": "markdown",
   "metadata": {
    "colab_type": "text",
    "id": "15LWr5Qr88Yg"
   },
   "source": [
    "**Question 1 :** Le taux de survie chez les femmes semble nettement plus important que chez les hommes, ce qui n'est pas surprenant dans la mesure où les femmes (accompagnées des enfants) ont été évacuées en priorité."
   ]
  },
  {
   "cell_type": "code",
   "execution_count": 0,
   "metadata": {
    "colab": {
     "base_uri": "https://localhost:8080/",
     "height": 687
    },
    "colab_type": "code",
    "id": "5ZCGDRPc88Yh",
    "outputId": "ac111525-7474-47f8-c22c-02ec633a2c8e"
   },
   "outputs": [
    {
     "name": "stdout",
     "output_type": "stream",
     "text": [
      "Pourcentage d'adulte :  85.41226215644821 %\n",
      "Pourcentage d'enfant :  14.587737843551796 %\n"
     ]
    },
    {
     "data": {
      "text/html": [
       "<div>\n",
       "<style scoped>\n",
       "    .dataframe tbody tr th:only-of-type {\n",
       "        vertical-align: middle;\n",
       "    }\n",
       "\n",
       "    .dataframe tbody tr th {\n",
       "        vertical-align: top;\n",
       "    }\n",
       "\n",
       "    .dataframe thead th {\n",
       "        text-align: right;\n",
       "    }\n",
       "</style>\n",
       "<table border=\"1\" class=\"dataframe\">\n",
       "  <thead>\n",
       "    <tr style=\"text-align: right;\">\n",
       "      <th></th>\n",
       "      <th>PassengerId</th>\n",
       "      <th>Survived</th>\n",
       "      <th>Pclass</th>\n",
       "      <th>Name</th>\n",
       "      <th>FullName</th>\n",
       "      <th>Sex</th>\n",
       "      <th>Age</th>\n",
       "      <th>SibSp</th>\n",
       "      <th>Parch</th>\n",
       "      <th>Ticket</th>\n",
       "      <th>Fare</th>\n",
       "      <th>Cabin</th>\n",
       "      <th>Embarked</th>\n",
       "      <th>Child</th>\n",
       "    </tr>\n",
       "  </thead>\n",
       "  <tbody>\n",
       "    <tr>\n",
       "      <th>1</th>\n",
       "      <td>300</td>\n",
       "      <td>1</td>\n",
       "      <td>1</td>\n",
       "      <td>Baxter</td>\n",
       "      <td>Mrs. James (Helene DeLaudeniere Chaput)</td>\n",
       "      <td>female</td>\n",
       "      <td>50.00</td>\n",
       "      <td>0</td>\n",
       "      <td>1</td>\n",
       "      <td>PC 17558</td>\n",
       "      <td>247.5208</td>\n",
       "      <td>B58 B60</td>\n",
       "      <td>C</td>\n",
       "      <td>0.0</td>\n",
       "    </tr>\n",
       "    <tr>\n",
       "      <th>4</th>\n",
       "      <td>303</td>\n",
       "      <td>0</td>\n",
       "      <td>3</td>\n",
       "      <td>Johnson</td>\n",
       "      <td>Mr. William Cahoone Jr</td>\n",
       "      <td>male</td>\n",
       "      <td>19.00</td>\n",
       "      <td>0</td>\n",
       "      <td>0</td>\n",
       "      <td>LINE</td>\n",
       "      <td>0.0000</td>\n",
       "      <td>NaN</td>\n",
       "      <td>S</td>\n",
       "      <td>0.0</td>\n",
       "    </tr>\n",
       "    <tr>\n",
       "      <th>7</th>\n",
       "      <td>306</td>\n",
       "      <td>1</td>\n",
       "      <td>1</td>\n",
       "      <td>Allison</td>\n",
       "      <td>Master. Hudson Trevor</td>\n",
       "      <td>male</td>\n",
       "      <td>0.92</td>\n",
       "      <td>1</td>\n",
       "      <td>2</td>\n",
       "      <td>113781</td>\n",
       "      <td>151.5500</td>\n",
       "      <td>C22 C26</td>\n",
       "      <td>S</td>\n",
       "      <td>1.0</td>\n",
       "    </tr>\n",
       "    <tr>\n",
       "      <th>9</th>\n",
       "      <td>308</td>\n",
       "      <td>1</td>\n",
       "      <td>1</td>\n",
       "      <td>Penasco y Castellana</td>\n",
       "      <td>Mrs. Victor de Satode (Maria Josefa Perez de ...</td>\n",
       "      <td>female</td>\n",
       "      <td>17.00</td>\n",
       "      <td>1</td>\n",
       "      <td>0</td>\n",
       "      <td>PC 17758</td>\n",
       "      <td>108.9000</td>\n",
       "      <td>C65</td>\n",
       "      <td>C</td>\n",
       "      <td>1.0</td>\n",
       "    </tr>\n",
       "    <tr>\n",
       "      <th>10</th>\n",
       "      <td>309</td>\n",
       "      <td>0</td>\n",
       "      <td>2</td>\n",
       "      <td>Abelson</td>\n",
       "      <td>Mr. Samuel</td>\n",
       "      <td>male</td>\n",
       "      <td>30.00</td>\n",
       "      <td>1</td>\n",
       "      <td>0</td>\n",
       "      <td>P/PP 3381</td>\n",
       "      <td>24.0000</td>\n",
       "      <td>NaN</td>\n",
       "      <td>C</td>\n",
       "      <td>0.0</td>\n",
       "    </tr>\n",
       "  </tbody>\n",
       "</table>\n",
       "</div>"
      ],
      "text/plain": [
       "    PassengerId  Survived  Pclass                  Name  \\\n",
       "1           300         1       1                Baxter   \n",
       "4           303         0       3               Johnson   \n",
       "7           306         1       1               Allison   \n",
       "9           308         1       1  Penasco y Castellana   \n",
       "10          309         0       2               Abelson   \n",
       "\n",
       "                                             FullName     Sex    Age  SibSp  \\\n",
       "1             Mrs. James (Helene DeLaudeniere Chaput)  female  50.00      0   \n",
       "4                              Mr. William Cahoone Jr    male  19.00      0   \n",
       "7                               Master. Hudson Trevor    male   0.92      1   \n",
       "9    Mrs. Victor de Satode (Maria Josefa Perez de ...  female  17.00      1   \n",
       "10                                         Mr. Samuel    male  30.00      1   \n",
       "\n",
       "    Parch     Ticket      Fare    Cabin Embarked  Child  \n",
       "1       1   PC 17558  247.5208  B58 B60        C    0.0  \n",
       "4       0       LINE    0.0000      NaN        S    0.0  \n",
       "7       2     113781  151.5500  C22 C26        S    1.0  \n",
       "9       0   PC 17758  108.9000      C65        C    1.0  \n",
       "10      0  P/PP 3381   24.0000      NaN        C    0.0  "
      ]
     },
     "execution_count": 7,
     "metadata": {
      "tags": []
     },
     "output_type": "execute_result"
    },
    {
     "data": {
      "image/png": "[encoded data removed]",
      "text/plain": [
       "<matplotlib.figure.Figure at 0x7f41bd7a29b0>"
      ]
     },
     "metadata": {
      "tags": []
     },
     "output_type": "display_data"
    }
   ],
   "source": [
    "#Question 2\n",
    "\n",
    "def add_child(df_input,deleteNan):\n",
    "    \n",
    "    child = np.zeros(df_input.shape[0])\n",
    "\n",
    "    i = 0\n",
    "\n",
    "    for element in df_input['Age']:\n",
    "        if element < 18 :\n",
    "            child[i] = 1\n",
    "            i +=1\n",
    "        else:\n",
    "            child[i] = 0\n",
    "            i +=1\n",
    "\n",
    "    df_child = pd.DataFrame(child)\n",
    "    df_child.columns = ['Child']\n",
    "\n",
    "    df_trainChild = pd.concat([df_input, df_child], axis=1)\n",
    "    if deleteNan == True:\n",
    "        df_trainChild = df_trainChild.dropna(subset=['Age'])\n",
    "    \n",
    "    return df_trainChild\n",
    "\n",
    "df_trainChild = add_child(df_train,True)\n",
    "\n",
    "pourcentageEnfant = pourcentageDf(df_trainChild['Child'])\n",
    "pourcentageEnfant.plot(kind='pie', subplots=True, figsize=(8, 8))\n",
    "\n",
    "print(\"Pourcentage d'adulte : \",pourcentageEnfant[0],\"%\")\n",
    "print(\"Pourcentage d'enfant : \",pourcentageEnfant[1],\"%\")\n",
    "\n",
    "df_trainChild.head()"
   ]
  },
  {
   "cell_type": "markdown",
   "metadata": {
    "colab_type": "text",
    "id": "PX97txRL88Ym"
   },
   "source": [
    "Seulement 12% des voyageurs étaient des enfants."
   ]
  },
  {
   "cell_type": "code",
   "execution_count": 0,
   "metadata": {
    "colab": {
     "base_uri": "https://localhost:8080/",
     "height": 534
    },
    "colab_type": "code",
    "id": "VmhAGeAu88Yn",
    "outputId": "3b897b07-74c5-47e5-c5c1-9f5da185cb28",
    "scrolled": false
   },
   "outputs": [
    {
     "name": "stdout",
     "output_type": "stream",
     "text": [
      "Pourcentage d'enfant ayant survécu :  42.028985507246375 %\n",
      "Pourcentage d'enfant décédé :  57.971014492753625 %\n",
      "Pourcentage d'adulte ayant survécu :  59.65346534653465 %\n",
      "Pourcentage d'adulte décédé :  40.34653465346535 %\n"
     ]
    },
    {
     "data": {
      "image/png": "[encoded data removed]",
      "text/plain": [
       "<matplotlib.figure.Figure at 0x7f41bd744898>"
      ]
     },
     "metadata": {
      "tags": []
     },
     "output_type": "display_data"
    }
   ],
   "source": [
    "pourcentageEnfantSurvivant = pourcentageDf(df_trainChild[df_trainChild['Child']==1]['Survived'])\n",
    "pourcentageAdulteSurvivant = pourcentageDf(df_trainChild[df_trainChild['Child']==0]['Survived'])\n",
    "pourcentageEnfantSurvivant.plot(kind='pie', subplots=True, figsize=(8, 8))\n",
    "pourcentageAdulteSurvivant.plot(kind='pie', subplots=True, figsize=(8, 8))\n",
    "\n",
    "\n",
    "print(\"Pourcentage d'enfant ayant survécu : \",pourcentageEnfantSurvivant[0],\"%\")\n",
    "print(\"Pourcentage d'enfant décédé : \",pourcentageEnfantSurvivant[1],\"%\")\n",
    "print(\"Pourcentage d'adulte ayant survécu : \",pourcentageAdulteSurvivant[0],\"%\")\n",
    "print(\"Pourcentage d'adulte décédé : \",pourcentageAdulteSurvivant[1],\"%\")"
   ]
  },
  {
   "cell_type": "markdown",
   "metadata": {
    "colab_type": "text",
    "id": "I-_iHQR088Yr"
   },
   "source": [
    "**Question 2 :** Parmis les enfants présents dans le Titanic, une majorité est décedée.  \n",
    "\n",
    "**Question 3 :** 120 valeurs concernant l'âge du voyageur sont manquantes dans notre jeu de données. Cela peut engendrer un biais très important. Nous allons chercher à savoir s'il existe une corrélation entre l'âge et un autre attribut du dataset pour prédire la valeur manquante."
   ]
  },
  {
   "cell_type": "markdown",
   "metadata": {
    "colab_type": "text",
    "id": "D_tCrzg7GLU9"
   },
   "source": [
    "Simplement enlever les valeurs manquantes ne permettra pas de lutter contre le biais important. \n",
    "Nous allons donc utiliser la mtraice de corrélation; outil que nous connaissons pur déterminer les variables fortement corrélés pour essayer de donner de remplir de manière cohérente les valeurs manquantes.\n"
   ]
  },
  {
   "cell_type": "code",
   "execution_count": 0,
   "metadata": {
    "colab": {
     "base_uri": "https://localhost:8080/",
     "height": 1136
    },
    "colab_type": "code",
    "id": "Sj90FVNg88Ys",
    "outputId": "2ac55d9a-61a3-430e-8bec-0a1b578b210a",
    "scrolled": false
   },
   "outputs": [
    {
     "data": {
      "text/html": [
       "<div>\n",
       "<style scoped>\n",
       "    .dataframe tbody tr th:only-of-type {\n",
       "        vertical-align: middle;\n",
       "    }\n",
       "\n",
       "    .dataframe tbody tr th {\n",
       "        vertical-align: top;\n",
       "    }\n",
       "\n",
       "    .dataframe thead th {\n",
       "        text-align: right;\n",
       "    }\n",
       "</style>\n",
       "<table border=\"1\" class=\"dataframe\">\n",
       "  <thead>\n",
       "    <tr style=\"text-align: right;\">\n",
       "      <th></th>\n",
       "      <th>PassengerId</th>\n",
       "      <th>Survived</th>\n",
       "      <th>Pclass</th>\n",
       "      <th>Name</th>\n",
       "      <th>FullName</th>\n",
       "      <th>Sex</th>\n",
       "      <th>Age</th>\n",
       "      <th>SibSp</th>\n",
       "      <th>Parch</th>\n",
       "      <th>Ticket</th>\n",
       "      <th>Fare</th>\n",
       "      <th>Cabin</th>\n",
       "      <th>Embarked</th>\n",
       "      <th>Child</th>\n",
       "    </tr>\n",
       "  </thead>\n",
       "  <tbody>\n",
       "    <tr>\n",
       "      <th>1</th>\n",
       "      <td>300</td>\n",
       "      <td>1</td>\n",
       "      <td>1</td>\n",
       "      <td>Baxter</td>\n",
       "      <td>Mrs. James (Helene DeLaudeniere Chaput)</td>\n",
       "      <td>female</td>\n",
       "      <td>50.00</td>\n",
       "      <td>0</td>\n",
       "      <td>1</td>\n",
       "      <td>PC 17558</td>\n",
       "      <td>247.5208</td>\n",
       "      <td>B58 B60</td>\n",
       "      <td>C</td>\n",
       "      <td>0.0</td>\n",
       "    </tr>\n",
       "    <tr>\n",
       "      <th>4</th>\n",
       "      <td>303</td>\n",
       "      <td>0</td>\n",
       "      <td>3</td>\n",
       "      <td>Johnson</td>\n",
       "      <td>Mr. William Cahoone Jr</td>\n",
       "      <td>male</td>\n",
       "      <td>19.00</td>\n",
       "      <td>0</td>\n",
       "      <td>0</td>\n",
       "      <td>LINE</td>\n",
       "      <td>0.0000</td>\n",
       "      <td>NaN</td>\n",
       "      <td>S</td>\n",
       "      <td>0.0</td>\n",
       "    </tr>\n",
       "    <tr>\n",
       "      <th>7</th>\n",
       "      <td>306</td>\n",
       "      <td>1</td>\n",
       "      <td>1</td>\n",
       "      <td>Allison</td>\n",
       "      <td>Master. Hudson Trevor</td>\n",
       "      <td>male</td>\n",
       "      <td>0.92</td>\n",
       "      <td>1</td>\n",
       "      <td>2</td>\n",
       "      <td>113781</td>\n",
       "      <td>151.5500</td>\n",
       "      <td>C22 C26</td>\n",
       "      <td>S</td>\n",
       "      <td>1.0</td>\n",
       "    </tr>\n",
       "    <tr>\n",
       "      <th>9</th>\n",
       "      <td>308</td>\n",
       "      <td>1</td>\n",
       "      <td>1</td>\n",
       "      <td>Penasco y Castellana</td>\n",
       "      <td>Mrs. Victor de Satode (Maria Josefa Perez de ...</td>\n",
       "      <td>female</td>\n",
       "      <td>17.00</td>\n",
       "      <td>1</td>\n",
       "      <td>0</td>\n",
       "      <td>PC 17758</td>\n",
       "      <td>108.9000</td>\n",
       "      <td>C65</td>\n",
       "      <td>C</td>\n",
       "      <td>1.0</td>\n",
       "    </tr>\n",
       "    <tr>\n",
       "      <th>10</th>\n",
       "      <td>309</td>\n",
       "      <td>0</td>\n",
       "      <td>2</td>\n",
       "      <td>Abelson</td>\n",
       "      <td>Mr. Samuel</td>\n",
       "      <td>male</td>\n",
       "      <td>30.00</td>\n",
       "      <td>1</td>\n",
       "      <td>0</td>\n",
       "      <td>P/PP 3381</td>\n",
       "      <td>24.0000</td>\n",
       "      <td>NaN</td>\n",
       "      <td>C</td>\n",
       "      <td>0.0</td>\n",
       "    </tr>\n",
       "  </tbody>\n",
       "</table>\n",
       "</div>"
      ],
      "text/plain": [
       "    PassengerId  Survived  Pclass                  Name  \\\n",
       "1           300         1       1                Baxter   \n",
       "4           303         0       3               Johnson   \n",
       "7           306         1       1               Allison   \n",
       "9           308         1       1  Penasco y Castellana   \n",
       "10          309         0       2               Abelson   \n",
       "\n",
       "                                             FullName     Sex    Age  SibSp  \\\n",
       "1             Mrs. James (Helene DeLaudeniere Chaput)  female  50.00      0   \n",
       "4                              Mr. William Cahoone Jr    male  19.00      0   \n",
       "7                               Master. Hudson Trevor    male   0.92      1   \n",
       "9    Mrs. Victor de Satode (Maria Josefa Perez de ...  female  17.00      1   \n",
       "10                                         Mr. Samuel    male  30.00      1   \n",
       "\n",
       "    Parch     Ticket      Fare    Cabin Embarked  Child  \n",
       "1       1   PC 17558  247.5208  B58 B60        C    0.0  \n",
       "4       0       LINE    0.0000      NaN        S    0.0  \n",
       "7       2     113781  151.5500  C22 C26        S    1.0  \n",
       "9       0   PC 17758  108.9000      C65        C    1.0  \n",
       "10      0  P/PP 3381   24.0000      NaN        C    0.0  "
      ]
     },
     "execution_count": 9,
     "metadata": {
      "tags": []
     },
     "output_type": "execute_result"
    },
    {
     "data": {
      "image/png": "[encoded data removed]",
      "text/plain": [
       "<matplotlib.figure.Figure at 0x7f41bac25748>"
      ]
     },
     "metadata": {
      "tags": []
     },
     "output_type": "display_data"
    },
    {
     "data": {
      "image/png": "[encoded data removed]",
      "text/plain": [
       "<matplotlib.figure.Figure at 0x7f41bac14940>"
      ]
     },
     "metadata": {
      "tags": []
     },
     "output_type": "display_data"
    }
   ],
   "source": [
    "\n",
    "\n",
    "\n",
    "df_trainChildWna = df_trainChild.dropna(subset=['Age'])\n",
    "\n",
    "\n",
    "fig,ax=plt.subplots(figsize=(18,8))\n",
    "plt.scatter(df_train['Pclass'], df_train['Age'])\n",
    "\n",
    "corr_matrix = df_trainChildWna.corr()\n",
    "\n",
    "fig,ax=plt.subplots(figsize=(18,8))\n",
    "sns.heatmap(corr_matrix,annot=True)\n",
    "\n",
    "df_trainChildWna.head()"
   ]
  },
  {
   "cell_type": "markdown",
   "metadata": {
    "colab_type": "text",
    "id": "T3veNjWr88Yx"
   },
   "source": [
    "On peut imaginer une corrélation entre la classe du voyageur et son âge. Même si celle-ci n'est pas extrêmement sûr la valeur du coefficent de détermination entre les élements étant de 0,1225.\n",
    "Malgré tout on le remarque ci-dessous : la moyenne varie très nettement entre chaque classe, nous sommes sur une hypothèse adapté au dataset, or il semble logique que la classe d'appartenance dépendant du prix du billet  varie en fonciton des âges ( personnes âgés plus riches, jeunes aménés à voyager pour pas chers)Nous allons donc remplacer les valeurs vides par la moyenne d'âge correspondant à la classe du passager."
   ]
  },
  {
   "cell_type": "code",
   "execution_count": 0,
   "metadata": {
    "colab": {
     "base_uri": "https://localhost:8080/",
     "height": 306
    },
    "colab_type": "code",
    "id": "T8nKbTlg88Yx",
    "outputId": "016166cf-0d3e-4e01-825e-47fff96946df",
    "scrolled": false
   },
   "outputs": [
    {
     "name": "stdout",
     "output_type": "stream",
     "text": [
      "Moyenne Classe 1 Adulte:  40.642857142857146\n",
      "Moyenne Classe 2 Adulte:  34.350515463917525\n",
      "Moyenne Classe 3 Adulte:  30.321428571428573\n",
      "Moyenne Classe 1 :  13.083636363636366\n",
      "Moyenne Classe 2 :  6.7\n",
      "Moyenne Classe 3 :  8.858604651162791\n"
     ]
    },
    {
     "data": {
      "text/html": [
       "<div>\n",
       "<style scoped>\n",
       "    .dataframe tbody tr th:only-of-type {\n",
       "        vertical-align: middle;\n",
       "    }\n",
       "\n",
       "    .dataframe tbody tr th {\n",
       "        vertical-align: top;\n",
       "    }\n",
       "\n",
       "    .dataframe thead th {\n",
       "        text-align: right;\n",
       "    }\n",
       "</style>\n",
       "<table border=\"1\" class=\"dataframe\">\n",
       "  <thead>\n",
       "    <tr style=\"text-align: right;\">\n",
       "      <th></th>\n",
       "      <th>PassengerId</th>\n",
       "      <th>Survived</th>\n",
       "      <th>Pclass</th>\n",
       "      <th>Name</th>\n",
       "      <th>FullName</th>\n",
       "      <th>Sex</th>\n",
       "      <th>Age</th>\n",
       "      <th>SibSp</th>\n",
       "      <th>Parch</th>\n",
       "      <th>Ticket</th>\n",
       "      <th>Fare</th>\n",
       "      <th>Cabin</th>\n",
       "      <th>Embarked</th>\n",
       "      <th>Child</th>\n",
       "    </tr>\n",
       "  </thead>\n",
       "  <tbody>\n",
       "    <tr>\n",
       "      <th>0</th>\n",
       "      <td>299</td>\n",
       "      <td>1</td>\n",
       "      <td>1</td>\n",
       "      <td>Saalfeld</td>\n",
       "      <td>Mr. Adolphe</td>\n",
       "      <td>male</td>\n",
       "      <td>30.321429</td>\n",
       "      <td>0</td>\n",
       "      <td>0</td>\n",
       "      <td>19988</td>\n",
       "      <td>30.5000</td>\n",
       "      <td>C106</td>\n",
       "      <td>S</td>\n",
       "      <td>0.0</td>\n",
       "    </tr>\n",
       "    <tr>\n",
       "      <th>1</th>\n",
       "      <td>300</td>\n",
       "      <td>1</td>\n",
       "      <td>1</td>\n",
       "      <td>Baxter</td>\n",
       "      <td>Mrs. James (Helene DeLaudeniere Chaput)</td>\n",
       "      <td>female</td>\n",
       "      <td>50.000000</td>\n",
       "      <td>0</td>\n",
       "      <td>1</td>\n",
       "      <td>PC 17558</td>\n",
       "      <td>247.5208</td>\n",
       "      <td>B58 B60</td>\n",
       "      <td>C</td>\n",
       "      <td>0.0</td>\n",
       "    </tr>\n",
       "    <tr>\n",
       "      <th>2</th>\n",
       "      <td>301</td>\n",
       "      <td>1</td>\n",
       "      <td>3</td>\n",
       "      <td>Kelly</td>\n",
       "      <td>Miss. Anna Katherine Annie Kate</td>\n",
       "      <td>female</td>\n",
       "      <td>30.321429</td>\n",
       "      <td>0</td>\n",
       "      <td>0</td>\n",
       "      <td>9234</td>\n",
       "      <td>7.7500</td>\n",
       "      <td>NaN</td>\n",
       "      <td>Q</td>\n",
       "      <td>0.0</td>\n",
       "    </tr>\n",
       "    <tr>\n",
       "      <th>3</th>\n",
       "      <td>302</td>\n",
       "      <td>1</td>\n",
       "      <td>3</td>\n",
       "      <td>McCoy</td>\n",
       "      <td>Mr. Bernard</td>\n",
       "      <td>male</td>\n",
       "      <td>30.321429</td>\n",
       "      <td>2</td>\n",
       "      <td>0</td>\n",
       "      <td>367226</td>\n",
       "      <td>23.2500</td>\n",
       "      <td>NaN</td>\n",
       "      <td>Q</td>\n",
       "      <td>0.0</td>\n",
       "    </tr>\n",
       "    <tr>\n",
       "      <th>4</th>\n",
       "      <td>303</td>\n",
       "      <td>0</td>\n",
       "      <td>3</td>\n",
       "      <td>Johnson</td>\n",
       "      <td>Mr. William Cahoone Jr</td>\n",
       "      <td>male</td>\n",
       "      <td>19.000000</td>\n",
       "      <td>0</td>\n",
       "      <td>0</td>\n",
       "      <td>LINE</td>\n",
       "      <td>0.0000</td>\n",
       "      <td>NaN</td>\n",
       "      <td>S</td>\n",
       "      <td>0.0</td>\n",
       "    </tr>\n",
       "  </tbody>\n",
       "</table>\n",
       "</div>"
      ],
      "text/plain": [
       "   PassengerId  Survived  Pclass      Name  \\\n",
       "0          299         1       1  Saalfeld   \n",
       "1          300         1       1    Baxter   \n",
       "2          301         1       3     Kelly   \n",
       "3          302         1       3     McCoy   \n",
       "4          303         0       3   Johnson   \n",
       "\n",
       "                                   FullName     Sex        Age  SibSp  Parch  \\\n",
       "0                               Mr. Adolphe    male  30.321429      0      0   \n",
       "1   Mrs. James (Helene DeLaudeniere Chaput)  female  50.000000      0      1   \n",
       "2           Miss. Anna Katherine Annie Kate  female  30.321429      0      0   \n",
       "3                               Mr. Bernard    male  30.321429      2      0   \n",
       "4                    Mr. William Cahoone Jr    male  19.000000      0      0   \n",
       "\n",
       "     Ticket      Fare    Cabin Embarked  Child  \n",
       "0     19988   30.5000     C106        S    0.0  \n",
       "1  PC 17558  247.5208  B58 B60        C    0.0  \n",
       "2      9234    7.7500      NaN        Q    0.0  \n",
       "3    367226   23.2500      NaN        Q    0.0  \n",
       "4      LINE    0.0000      NaN        S    0.0  "
      ]
     },
     "execution_count": 10,
     "metadata": {
      "tags": []
     },
     "output_type": "execute_result"
    }
   ],
   "source": [
    "# La moyenne d'age est différente pour chaque classe\n",
    "\n",
    "df_adulte = df_train[df_train['Age']>18]\n",
    "df_enfant = df_train[df_train['Age']<18]\n",
    "\n",
    "\n",
    "moyenneClass1Adulte = np.mean(df_adulte[df_adulte['Pclass']==1]['Age'])\n",
    "moyenneClass2Adulte = np.mean(df_adulte[df_adulte['Pclass']==2]['Age'])\n",
    "moyenneClass3Adulte = np.mean(df_adulte[df_adulte['Pclass']==3]['Age'])\n",
    "\n",
    "print(\"Moyenne Classe 1 Adulte: \",moyenneClass1Adulte)\n",
    "print(\"Moyenne Classe 2 Adulte: \",moyenneClass2Adulte)\n",
    "print(\"Moyenne Classe 3 Adulte: \",moyenneClass3Adulte)\n",
    "\n",
    "\n",
    "moyenneClass1Enfant = np.mean(df_enfant[df_enfant['Pclass']==1]['Age'])\n",
    "moyenneClass2Enfant = np.mean(df_enfant[df_enfant['Pclass']==2]['Age'])\n",
    "moyenneClass3Enfant = np.mean(df_enfant[df_enfant['Pclass']==3]['Age'])\n",
    "\n",
    "print(\"Moyenne Classe 1 : \",moyenneClass1Enfant)\n",
    "print(\"Moyenne Classe 2 : \",moyenneClass2Enfant)\n",
    "print(\"Moyenne Classe 3 : \",moyenneClass3Enfant)\n",
    "\n",
    "\n",
    "df_trainChild2 = add_child(df_train,False)\n",
    "\n",
    "df_trainChildNul = pd.DataFrame(df_trainChild['Age'].isnull())\n",
    "df_trainChild2 = pd.concat([df_trainChild2, df_trainChildNul], axis=1)\n",
    "\n",
    "df_trainChild2.columns = ['PassengerId', 'Survived', 'Pclass', 'Name', 'FullName',\n",
    "                          'Sex', 'Age','SibSp', 'Parch', 'Ticket', 'Fare', 'Cabin',\n",
    "                          'Embarked', 'Child', 'Bool Age']\n",
    "\n",
    "j=0\n",
    "\n",
    "for i in range(0,df_trainChild2.shape[0]):\n",
    "    \n",
    "    if df_trainChild2['Bool Age'][i] and df_trainChild2['Pclass'][i] and j%10==0:\n",
    "        df_trainChild2['Age'][i] = moyenneClass1Enfant\n",
    "        j+=1\n",
    "        \n",
    "    if df_trainChild2['Bool Age'][i] and df_trainChild2['Pclass'][i] and j%10==0:\n",
    "        df_trainChild2['Age'][i] = moyenneClass1Enfant\n",
    "        j+=1\n",
    "        \n",
    "    if df_trainChild2['Bool Age'][i] and df_trainChild2['Pclass'][i] and j%10==0:\n",
    "        df_trainChild2['Age'][i] = moyenneClass1Enfant\n",
    "        j+=1\n",
    "\n",
    "    if df_trainChild2['Bool Age'][i] and df_trainChild2['Pclass'][i] and j%10!=0:\n",
    "        df_trainChild2['Age'][i] = moyenneClass1Adulte\n",
    "        j+=1\n",
    "        \n",
    "    if df_trainChild2['Bool Age'][i] and df_trainChild2['Pclass'][i] and j%10!=0:\n",
    "        df_trainChild2['Age'][i] = moyenneClass2Adulte\n",
    "        j+=1\n",
    "        \n",
    "    if df_trainChild2['Bool Age'][i] and df_trainChild2['Pclass'][i] and j%10!=0:\n",
    "        df_trainChild2['Age'][i] = moyenneClass3Adulte\n",
    "        j+=1\n",
    "\n",
    "df_trainChild2 = df_trainChild2.drop(['Bool Age','Child'],axis=1)\n",
    "df_trainChild2 = add_child(df_trainChild2,True)\n",
    "\n",
    "df_trainChild2.head()"
   ]
  },
  {
   "cell_type": "code",
   "execution_count": 0,
   "metadata": {
    "colab": {
     "base_uri": "https://localhost:8080/",
     "height": 85
    },
    "colab_type": "code",
    "id": "p4xFbsmW88Y1",
    "outputId": "8323c7d6-7661-4642-b3ea-28a5a40c027e",
    "scrolled": false
   },
   "outputs": [
    {
     "name": "stdout",
     "output_type": "stream",
     "text": [
      "Pourcentage d'enfant ayant survécu :  42.028985507246375 %\n",
      "Pourcentage d'enfant décédé :  57.971014492753625 %\n",
      "Pourcentage d'adulte ayant survécu :  62.59541984732825 %\n",
      "Pourcentage d'adulte décédé :  37.404580152671755 %\n"
     ]
    }
   ],
   "source": [
    "pourcentageEnfantSurvivant2 = pourcentageDf(df_trainChild2[df_trainChild2['Child']==1]['Survived'])\n",
    "pourcentageAdulteSurvivant2 = pourcentageDf(df_trainChild2[df_trainChild2['Child']==0]['Survived'])\n",
    "\n",
    "print(\"Pourcentage d'enfant ayant survécu : \",pourcentageEnfantSurvivant2[0],\"%\")\n",
    "print(\"Pourcentage d'enfant décédé : \",pourcentageEnfantSurvivant2[1],\"%\")\n",
    "print(\"Pourcentage d'adulte ayant survécu : \",pourcentageAdulteSurvivant2[0],\"%\")\n",
    "print(\"Pourcentage d'adulte décédé : \",pourcentageAdulteSurvivant2[1],\"%\")\n",
    "\n"
   ]
  },
  {
   "cell_type": "code",
   "execution_count": 0,
   "metadata": {
    "colab": {
     "base_uri": "https://localhost:8080/",
     "height": 85
    },
    "colab_type": "code",
    "id": "z9k5PIWH88Y5",
    "outputId": "2b1cb065-c97a-46b3-ffe2-e8aa96aef1c8"
   },
   "outputs": [
    {
     "name": "stdout",
     "output_type": "stream",
     "text": [
      "Variation du pourcentage d'enfant ayant survécu :  0.0 %\n",
      "Variation du pourcentage d'enfant décédé :  0.0 %\n",
      "Variation du pourcentage d'adulte ayant survécu :  -2.9419545007935994 %\n",
      "Variation du pourcentage d'adulte décédé :  2.9419545007935923 %\n"
     ]
    }
   ],
   "source": [
    "print(\"Variation du pourcentage d'enfant ayant survécu : \",pourcentageEnfantSurvivant[0] - pourcentageEnfantSurvivant2[0],\"%\")\n",
    "print(\"Variation du pourcentage d'enfant décédé : \",pourcentageEnfantSurvivant[1] - pourcentageEnfantSurvivant2[1],\"%\")\n",
    "print(\"Variation du pourcentage d'adulte ayant survécu : \",pourcentageAdulteSurvivant[0] - pourcentageAdulteSurvivant2[0],\"%\")\n",
    "print(\"Variation du pourcentage d'adulte décédé : \",pourcentageAdulteSurvivant[1] - pourcentageAdulteSurvivant2[1],\"%\")"
   ]
  },
  {
   "cell_type": "markdown",
   "metadata": {
    "colab_type": "text",
    "id": "bp0RZWSJRjjz"
   },
   "source": [
    "On observe aucune modification sur les valeurs concernant les enfants, cela est cohérent avec le fait que notre manière de remplir les données manquantes n'a rajouté aucun enfant  dans notre data set.\n"
   ]
  },
  {
   "cell_type": "markdown",
   "metadata": {
    "colab_type": "text",
    "id": "4z2MriDcRtyB"
   },
   "source": [
    "On oberve une légère augmentation du nombre d'adulte décédé avec l'utilisation des valeurs précédemment manquantes au sein de notre data-set."
   ]
  },
  {
   "cell_type": "code",
   "execution_count": 0,
   "metadata": {
    "colab": {
     "base_uri": "https://localhost:8080/",
     "height": 235
    },
    "colab_type": "code",
    "id": "mTscu93J88Y9",
    "outputId": "3535d348-22e6-4c4c-87cc-40f7466c0b80"
   },
   "outputs": [
    {
     "data": {
      "text/html": [
       "<div>\n",
       "<style scoped>\n",
       "    .dataframe tbody tr th:only-of-type {\n",
       "        vertical-align: middle;\n",
       "    }\n",
       "\n",
       "    .dataframe tbody tr th {\n",
       "        vertical-align: top;\n",
       "    }\n",
       "\n",
       "    .dataframe thead tr th {\n",
       "        text-align: left;\n",
       "    }\n",
       "\n",
       "    .dataframe thead tr:last-of-type th {\n",
       "        text-align: right;\n",
       "    }\n",
       "</style>\n",
       "<table border=\"1\" class=\"dataframe\">\n",
       "  <thead>\n",
       "    <tr>\n",
       "      <th></th>\n",
       "      <th></th>\n",
       "      <th colspan=\"5\" halign=\"left\">Survived</th>\n",
       "    </tr>\n",
       "    <tr>\n",
       "      <th></th>\n",
       "      <th></th>\n",
       "      <th>Survived</th>\n",
       "      <th>died</th>\n",
       "      <th>Passenger</th>\n",
       "      <th>Survival rate</th>\n",
       "      <th>Death rate</th>\n",
       "    </tr>\n",
       "    <tr>\n",
       "      <th>Sex</th>\n",
       "      <th>Child</th>\n",
       "      <th></th>\n",
       "      <th></th>\n",
       "      <th></th>\n",
       "      <th></th>\n",
       "      <th></th>\n",
       "    </tr>\n",
       "  </thead>\n",
       "  <tbody>\n",
       "    <tr>\n",
       "      <th rowspan=\"2\" valign=\"top\">female</th>\n",
       "      <th>0.0</th>\n",
       "      <td>134</td>\n",
       "      <td>42</td>\n",
       "      <td>176</td>\n",
       "      <td>76.136364</td>\n",
       "      <td>23.863636</td>\n",
       "    </tr>\n",
       "    <tr>\n",
       "      <th>1.0</th>\n",
       "      <td>24</td>\n",
       "      <td>8</td>\n",
       "      <td>32</td>\n",
       "      <td>75.000000</td>\n",
       "      <td>25.000000</td>\n",
       "    </tr>\n",
       "    <tr>\n",
       "      <th rowspan=\"2\" valign=\"top\">male</th>\n",
       "      <th>0.0</th>\n",
       "      <td>62</td>\n",
       "      <td>286</td>\n",
       "      <td>348</td>\n",
       "      <td>17.816092</td>\n",
       "      <td>82.183908</td>\n",
       "    </tr>\n",
       "    <tr>\n",
       "      <th>1.0</th>\n",
       "      <td>16</td>\n",
       "      <td>21</td>\n",
       "      <td>37</td>\n",
       "      <td>43.243243</td>\n",
       "      <td>56.756757</td>\n",
       "    </tr>\n",
       "  </tbody>\n",
       "</table>\n",
       "</div>"
      ],
      "text/plain": [
       "             Survived                                        \n",
       "             Survived died Passenger Survival rate Death rate\n",
       "Sex    Child                                                 \n",
       "female 0.0        134   42       176     76.136364  23.863636\n",
       "       1.0         24    8        32     75.000000  25.000000\n",
       "male   0.0         62  286       348     17.816092  82.183908\n",
       "       1.0         16   21        37     43.243243  56.756757"
      ]
     },
     "execution_count": 13,
     "metadata": {
      "tags": []
     },
     "output_type": "execute_result"
    }
   ],
   "source": [
    "# Question 4\n",
    "\n",
    "df=df_trainChild2.groupby(['Sex','Child'])\n",
    "aggregation={\n",
    " 'Survived': {\n",
    " 'Survived':'sum',\n",
    " 'died': lambda x: len(x)-sum(x),\n",
    " 'Passenger':'count',\n",
    " 'Survival rate': lambda x: sum(x)/len(x)*100,\n",
    " 'Death rate' : lambda x : (len(x)-sum(x))/len(x)*100\n",
    " }\n",
    "}\n",
    "df_agg = df.agg(aggregation)\n",
    "df_agg"
   ]
  },
  {
   "cell_type": "markdown",
   "metadata": {
    "colab_type": "text",
    "id": "Bkf7dSnuaTkx"
   },
   "source": [
    "La phrase \"les femmes et les enfants d'abord \"  prend tout son sens ici quand on voit que seulement 17% des hommes adultes ont survécu à la tragédie contre 75% des femmes et 57% des enfants."
   ]
  },
  {
   "cell_type": "code",
   "execution_count": 0,
   "metadata": {
    "colab": {
     "base_uri": "https://localhost:8080/",
     "height": 204
    },
    "colab_type": "code",
    "id": "OfHqXMiT88ZA",
    "outputId": "fd9e36eb-a49c-4200-a537-f30126842749"
   },
   "outputs": [
    {
     "data": {
      "text/html": [
       "<div>\n",
       "<style scoped>\n",
       "    .dataframe tbody tr th:only-of-type {\n",
       "        vertical-align: middle;\n",
       "    }\n",
       "\n",
       "    .dataframe tbody tr th {\n",
       "        vertical-align: top;\n",
       "    }\n",
       "\n",
       "    .dataframe thead th {\n",
       "        text-align: right;\n",
       "    }\n",
       "</style>\n",
       "<table border=\"1\" class=\"dataframe\">\n",
       "  <thead>\n",
       "    <tr style=\"text-align: right;\">\n",
       "      <th></th>\n",
       "      <th>Survived</th>\n",
       "      <th>Pclass</th>\n",
       "      <th>Sex</th>\n",
       "      <th>Age</th>\n",
       "      <th>SibSp</th>\n",
       "      <th>Parch</th>\n",
       "      <th>Fare</th>\n",
       "      <th>Embarked</th>\n",
       "      <th>Child</th>\n",
       "    </tr>\n",
       "  </thead>\n",
       "  <tbody>\n",
       "    <tr>\n",
       "      <th>0</th>\n",
       "      <td>0</td>\n",
       "      <td>3</td>\n",
       "      <td>1</td>\n",
       "      <td>22.0</td>\n",
       "      <td>1</td>\n",
       "      <td>0</td>\n",
       "      <td>9</td>\n",
       "      <td>2</td>\n",
       "      <td>0.0</td>\n",
       "    </tr>\n",
       "    <tr>\n",
       "      <th>1</th>\n",
       "      <td>1</td>\n",
       "      <td>1</td>\n",
       "      <td>0</td>\n",
       "      <td>38.0</td>\n",
       "      <td>1</td>\n",
       "      <td>0</td>\n",
       "      <td>117</td>\n",
       "      <td>0</td>\n",
       "      <td>0.0</td>\n",
       "    </tr>\n",
       "    <tr>\n",
       "      <th>2</th>\n",
       "      <td>1</td>\n",
       "      <td>3</td>\n",
       "      <td>0</td>\n",
       "      <td>26.0</td>\n",
       "      <td>0</td>\n",
       "      <td>0</td>\n",
       "      <td>22</td>\n",
       "      <td>2</td>\n",
       "      <td>0.0</td>\n",
       "    </tr>\n",
       "    <tr>\n",
       "      <th>3</th>\n",
       "      <td>1</td>\n",
       "      <td>1</td>\n",
       "      <td>0</td>\n",
       "      <td>35.0</td>\n",
       "      <td>1</td>\n",
       "      <td>0</td>\n",
       "      <td>108</td>\n",
       "      <td>2</td>\n",
       "      <td>0.0</td>\n",
       "    </tr>\n",
       "    <tr>\n",
       "      <th>4</th>\n",
       "      <td>0</td>\n",
       "      <td>3</td>\n",
       "      <td>1</td>\n",
       "      <td>35.0</td>\n",
       "      <td>0</td>\n",
       "      <td>0</td>\n",
       "      <td>24</td>\n",
       "      <td>2</td>\n",
       "      <td>0.0</td>\n",
       "    </tr>\n",
       "  </tbody>\n",
       "</table>\n",
       "</div>"
      ],
      "text/plain": [
       "   Survived  Pclass  Sex   Age  SibSp  Parch  Fare  Embarked  Child\n",
       "0         0       3    1  22.0      1      0     9         2    0.0\n",
       "1         1       1    0  38.0      1      0   117         0    0.0\n",
       "2         1       3    0  26.0      0      0    22         2    0.0\n",
       "3         1       1    0  35.0      1      0   108         2    0.0\n",
       "4         0       3    1  35.0      0      0    24         2    0.0"
      ]
     },
     "execution_count": 14,
     "metadata": {
      "tags": []
     },
     "output_type": "execute_result"
    }
   ],
   "source": [
    "df_testChild = add_child(df_test,True)\n",
    "\n",
    "df_testChild = df_test.drop(['PassengerId','Name','FullName','Ticket','Cabin'],axis=1)\n",
    "\n",
    "from sklearn.preprocessing import LabelEncoder\n",
    "\n",
    "df_testChild = add_child(df_testChild,False)\n",
    "\n",
    "enc = LabelEncoder()\n",
    "\n",
    "df_testChild.iloc[:,2:3] = enc.fit_transform(df_testChild.iloc[:,2:3])\n",
    "df_testChild.iloc[:,6:7] = enc.fit_transform(df_testChild.iloc[:,6:7])\n",
    "df_testChild.iloc[:,7:8] = enc.fit_transform(df_testChild.iloc[:,7:8].astype(str))\n",
    "df_testChild.head()"
   ]
  },
  {
   "cell_type": "code",
   "execution_count": 0,
   "metadata": {
    "colab": {
     "base_uri": "https://localhost:8080/",
     "height": 204
    },
    "colab_type": "code",
    "id": "fDOcHwuJ88ZD",
    "outputId": "2d48e9ad-34af-49a7-c07b-d392a7bbe7b7"
   },
   "outputs": [
    {
     "data": {
      "text/html": [
       "<div>\n",
       "<style scoped>\n",
       "    .dataframe tbody tr th:only-of-type {\n",
       "        vertical-align: middle;\n",
       "    }\n",
       "\n",
       "    .dataframe tbody tr th {\n",
       "        vertical-align: top;\n",
       "    }\n",
       "\n",
       "    .dataframe thead th {\n",
       "        text-align: right;\n",
       "    }\n",
       "</style>\n",
       "<table border=\"1\" class=\"dataframe\">\n",
       "  <thead>\n",
       "    <tr style=\"text-align: right;\">\n",
       "      <th></th>\n",
       "      <th>Survived</th>\n",
       "      <th>Pclass</th>\n",
       "      <th>Sex</th>\n",
       "      <th>Age</th>\n",
       "      <th>SibSp</th>\n",
       "      <th>Parch</th>\n",
       "      <th>Fare</th>\n",
       "      <th>Embarked</th>\n",
       "      <th>Child</th>\n",
       "    </tr>\n",
       "  </thead>\n",
       "  <tbody>\n",
       "    <tr>\n",
       "      <th>0</th>\n",
       "      <td>1</td>\n",
       "      <td>1</td>\n",
       "      <td>1</td>\n",
       "      <td>30.321429</td>\n",
       "      <td>0</td>\n",
       "      <td>0</td>\n",
       "      <td>128</td>\n",
       "      <td>2</td>\n",
       "      <td>0.0</td>\n",
       "    </tr>\n",
       "    <tr>\n",
       "      <th>1</th>\n",
       "      <td>1</td>\n",
       "      <td>1</td>\n",
       "      <td>0</td>\n",
       "      <td>50.000000</td>\n",
       "      <td>0</td>\n",
       "      <td>1</td>\n",
       "      <td>203</td>\n",
       "      <td>0</td>\n",
       "      <td>0.0</td>\n",
       "    </tr>\n",
       "    <tr>\n",
       "      <th>2</th>\n",
       "      <td>1</td>\n",
       "      <td>3</td>\n",
       "      <td>0</td>\n",
       "      <td>30.321429</td>\n",
       "      <td>0</td>\n",
       "      <td>0</td>\n",
       "      <td>28</td>\n",
       "      <td>1</td>\n",
       "      <td>0.0</td>\n",
       "    </tr>\n",
       "    <tr>\n",
       "      <th>3</th>\n",
       "      <td>1</td>\n",
       "      <td>3</td>\n",
       "      <td>1</td>\n",
       "      <td>30.321429</td>\n",
       "      <td>2</td>\n",
       "      <td>0</td>\n",
       "      <td>107</td>\n",
       "      <td>1</td>\n",
       "      <td>0.0</td>\n",
       "    </tr>\n",
       "    <tr>\n",
       "      <th>4</th>\n",
       "      <td>0</td>\n",
       "      <td>3</td>\n",
       "      <td>1</td>\n",
       "      <td>19.000000</td>\n",
       "      <td>0</td>\n",
       "      <td>0</td>\n",
       "      <td>0</td>\n",
       "      <td>2</td>\n",
       "      <td>0.0</td>\n",
       "    </tr>\n",
       "  </tbody>\n",
       "</table>\n",
       "</div>"
      ],
      "text/plain": [
       "   Survived  Pclass  Sex        Age  SibSp  Parch  Fare  Embarked  Child\n",
       "0         1       1    1  30.321429      0      0   128         2    0.0\n",
       "1         1       1    0  50.000000      0      1   203         0    0.0\n",
       "2         1       3    0  30.321429      0      0    28         1    0.0\n",
       "3         1       3    1  30.321429      2      0   107         1    0.0\n",
       "4         0       3    1  19.000000      0      0     0         2    0.0"
      ]
     },
     "execution_count": 15,
     "metadata": {
      "tags": []
     },
     "output_type": "execute_result"
    }
   ],
   "source": [
    "df_trainChild = df_trainChild2.drop(['PassengerId','Name','FullName','Ticket','Cabin'],axis=1)\n",
    "\n",
    "enc = LabelEncoder()\n",
    "\n",
    "df_trainChild.iloc[:,2:3] = enc.fit_transform(df_trainChild.iloc[:,2:3])\n",
    "df_trainChild.iloc[:,6:7] = enc.fit_transform(df_trainChild.iloc[:,6:7])\n",
    "df_trainChild.iloc[:,7:8] = enc.fit_transform(df_trainChild.iloc[:,7:8].astype(str))\n",
    "\n",
    "df_trainChild.head()"
   ]
  },
  {
   "cell_type": "code",
   "execution_count": 0,
   "metadata": {
    "colab": {
     "base_uri": "https://localhost:8080/",
     "height": 34
    },
    "colab_type": "code",
    "id": "alIlV4U_88ZH",
    "outputId": "7c2c4571-ecde-4a43-b11e-fcc21c2b3825"
   },
   "outputs": [
    {
     "data": {
      "text/plain": [
       "GaussianNB(priors=None)"
      ]
     },
     "execution_count": 16,
     "metadata": {
      "tags": []
     },
     "output_type": "execute_result"
    }
   ],
   "source": [
    "from sklearn import metrics\n",
    "from sklearn.naive_bayes import GaussianNB\n",
    "\n",
    "gnbModel=GaussianNB()\n",
    "gnbModel.fit(df_trainChild[['Child','Sex']], df_trainChild['Survived'])"
   ]
  },
  {
   "cell_type": "code",
   "execution_count": 0,
   "metadata": {
    "colab": {
     "base_uri": "https://localhost:8080/",
     "height": 136
    },
    "colab_type": "code",
    "id": "5bTNboZi_r71",
    "outputId": "65b3eb1f-6d88-4474-ca7f-69f97b8f3857"
   },
   "outputs": [
    {
     "name": "stdout",
     "output_type": "stream",
     "text": [
      "             precision    recall  f1-score   support\n",
      "\n",
      "          0       0.82      0.80      0.81       357\n",
      "          1       0.71      0.74      0.72       236\n",
      "\n",
      "avg / total       0.78      0.78      0.78       593\n",
      "\n"
     ]
    }
   ],
   "source": [
    "expected =df_trainChild['Survived']\n",
    "predicted = gnbModel.predict(df_trainChild[['Child','Sex']])\n",
    "\n",
    "\n",
    "\n",
    "print(metrics.classification_report(expected, predicted))"
   ]
  },
  {
   "cell_type": "code",
   "execution_count": 0,
   "metadata": {
    "colab": {
     "base_uri": "https://localhost:8080/",
     "height": 136
    },
    "colab_type": "code",
    "id": "VSi5Tu-b88ZL",
    "outputId": "d54e58b9-5f1c-44e4-b03f-2ce0d2a74b03"
   },
   "outputs": [
    {
     "name": "stdout",
     "output_type": "stream",
     "text": [
      "             precision    recall  f1-score   support\n",
      "\n",
      "          0       0.86      0.77      0.81       192\n",
      "          1       0.65      0.77      0.70       106\n",
      "\n",
      "avg / total       0.78      0.77      0.77       298\n",
      "\n"
     ]
    }
   ],
   "source": [
    "expected =df_testChild['Survived']\n",
    "predicted = gnbModel.predict(df_testChild[['Child','Sex']])\n",
    "\n",
    "\n",
    "print(metrics.classification_report(expected, predicted))"
   ]
  },
  {
   "cell_type": "markdown",
   "metadata": {
    "colab_type": "text",
    "id": "bqD0IRUqSXwq"
   },
   "source": [
    "**Conlusion :** Nous obtenons une précision de 78% sur notre training set et sur notre test set . Le biais et la variance sont correctes. Cependant, il doit etre possible d'améliorer les performances de notre modèle."
   ]
  },
  {
   "cell_type": "code",
   "execution_count": 0,
   "metadata": {
    "colab": {
     "base_uri": "https://localhost:8080/",
     "height": 51
    },
    "colab_type": "code",
    "id": "qQInD8vA88ZO",
    "outputId": "a782b056-2ad6-4420-b521-2765665b73d7"
   },
   "outputs": [
    {
     "name": "stdout",
     "output_type": "stream",
     "text": [
      "[[147  45]\n",
      " [ 24  82]]\n"
     ]
    }
   ],
   "source": [
    "print(metrics.confusion_matrix(expected, predicted))"
   ]
  }
 ],
 "metadata": {
  "colab": {
   "collapsed_sections": [],
   "name": "Exo B TP 5",
   "provenance": [],
   "toc_visible": true,
   "version": "0.3.2"
  },
  "kernelspec": {
   "display_name": "Python 3",
   "language": "python",
   "name": "python3"
  },
  "language_info": {
   "codemirror_mode": {
    "name": "ipython",
    "version": 3
   },
   "file_extension": ".py",
   "mimetype": "text/x-python",
   "name": "python",
   "nbconvert_exporter": "python",
   "pygments_lexer": "ipython3",
   "version": "3.6.6"
  }
 },
 "nbformat": 4,
 "nbformat_minor": 1
}
